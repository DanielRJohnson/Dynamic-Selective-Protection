{
 "cells": [
  {
   "cell_type": "code",
   "execution_count": 1,
   "metadata": {},
   "outputs": [
    {
     "name": "stderr",
     "output_type": "stream",
     "text": [
      "  Activating project at `~/My_Drive/Research/code/Dynamic-Selective-Protection/Pcg`\n"
     ]
    }
   ],
   "source": [
    "from scipy.sparse.linalg import norm\n",
    "import sys\n",
    "import os\n",
    "from json import dump\n",
    "sys.path.append(os.path.join(os.getcwd(), os.pardir))\n",
    "from io_utils import load_matrices_from_dir\n",
    "from tqdm import tqdm"
   ]
  },
  {
   "cell_type": "code",
   "execution_count": 2,
   "metadata": {},
   "outputs": [
    {
     "data": {
      "text/plain": [
       "OrderedDict([('Na5.mat',\n",
       "              <5832x5832 sparse matrix of type '<class 'numpy.float64'>'\n",
       "              \twith 305630 stored elements in Compressed Sparse Column format>),\n",
       "             ('Pres_Poisson.mat',\n",
       "              <14822x14822 sparse matrix of type '<class 'numpy.float64'>'\n",
       "              \twith 715804 stored elements in Compressed Sparse Column format>),\n",
       "             ('apache1.mat',\n",
       "              <80800x80800 sparse matrix of type '<class 'numpy.float64'>'\n",
       "              \twith 542184 stored elements in Compressed Sparse Column format>),\n",
       "             ('bcircuit.mat',\n",
       "              <68902x68902 sparse matrix of type '<class 'numpy.float64'>'\n",
       "              \twith 375558 stored elements in Compressed Sparse Column format>),\n",
       "             ('bcsstk18.mat',\n",
       "              <11948x11948 sparse matrix of type '<class 'numpy.float64'>'\n",
       "              \twith 149090 stored elements in Compressed Sparse Column format>),\n",
       "             ('bmw7st_1.mat',\n",
       "              <141347x141347 sparse matrix of type '<class 'numpy.float64'>'\n",
       "              \twith 7318399 stored elements in Compressed Sparse Column format>),\n",
       "             ('cant.mat',\n",
       "              <62451x62451 sparse matrix of type '<class 'numpy.float64'>'\n",
       "              \twith 4007383 stored elements in Compressed Sparse Column format>),\n",
       "             ('cbuckle.mat',\n",
       "              <13681x13681 sparse matrix of type '<class 'numpy.float64'>'\n",
       "              \twith 676515 stored elements in Compressed Sparse Column format>),\n",
       "             ('cfd2.mat',\n",
       "              <123440x123440 sparse matrix of type '<class 'numpy.float64'>'\n",
       "              \twith 3085406 stored elements in Compressed Sparse Column format>),\n",
       "             ('consph.mat',\n",
       "              <83334x83334 sparse matrix of type '<class 'numpy.float64'>'\n",
       "              \twith 6010480 stored elements in Compressed Sparse Column format>),\n",
       "             ('ct20stif.mat',\n",
       "              <52329x52329 sparse matrix of type '<class 'numpy.float64'>'\n",
       "              \twith 2600295 stored elements in Compressed Sparse Column format>),\n",
       "             ('ex10.mat',\n",
       "              <2410x2410 sparse matrix of type '<class 'numpy.float64'>'\n",
       "              \twith 54840 stored elements in Compressed Sparse Column format>),\n",
       "             ('gridgena.mat',\n",
       "              <48962x48962 sparse matrix of type '<class 'numpy.float64'>'\n",
       "              \twith 512084 stored elements in Compressed Sparse Column format>),\n",
       "             ('msc04515.mat',\n",
       "              <4515x4515 sparse matrix of type '<class 'numpy.float64'>'\n",
       "              \twith 97707 stored elements in Compressed Sparse Column format>),\n",
       "             ('parabolic_fem.mat',\n",
       "              <525825x525825 sparse matrix of type '<class 'numpy.float64'>'\n",
       "              \twith 3674625 stored elements in Compressed Sparse Column format>),\n",
       "             ('raefsky4.mat',\n",
       "              <19779x19779 sparse matrix of type '<class 'numpy.float64'>'\n",
       "              \twith 1316789 stored elements in Compressed Sparse Column format>),\n",
       "             ('s1rmq4m1.mat',\n",
       "              <5489x5489 sparse matrix of type '<class 'numpy.float64'>'\n",
       "              \twith 262411 stored elements in Compressed Sparse Column format>),\n",
       "             ('ship_003.mat',\n",
       "              <121728x121728 sparse matrix of type '<class 'numpy.float64'>'\n",
       "              \twith 3777036 stored elements in Compressed Sparse Column format>),\n",
       "             ('tmt_sym.mat',\n",
       "              <726713x726713 sparse matrix of type '<class 'numpy.float64'>'\n",
       "              \twith 5080961 stored elements in Compressed Sparse Column format>),\n",
       "             ('vanbody.mat',\n",
       "              <47072x47072 sparse matrix of type '<class 'numpy.float64'>'\n",
       "              \twith 2329056 stored elements in Compressed Sparse Column format>),\n",
       "             ('vibrobox.mat',\n",
       "              <12328x12328 sparse matrix of type '<class 'numpy.float64'>'\n",
       "              \twith 301700 stored elements in Compressed Sparse Column format>)])"
      ]
     },
     "execution_count": 2,
     "metadata": {},
     "output_type": "execute_result"
    }
   ],
   "source": [
    "mats = load_matrices_from_dir(\"../matrices/raw\")\n",
    "mats"
   ]
  },
  {
   "cell_type": "code",
   "execution_count": 3,
   "metadata": {},
   "outputs": [
    {
     "name": "stderr",
     "output_type": "stream",
     "text": [
      "ex10.mat: 100%|██████████| 2410/2410 [00:00<00:00, 9106.30it/s]\n",
      "msc04515.mat: 100%|██████████| 4515/4515 [00:00<00:00, 7343.89it/s]\n",
      "s1rmq4m1.mat: 100%|██████████| 5489/5489 [00:01<00:00, 3965.12it/s]\n",
      "Na5.mat: 100%|██████████| 5832/5832 [00:01<00:00, 3546.57it/s]\n",
      "bcsstk18.mat: 100%|██████████| 11948/11948 [00:03<00:00, 3684.45it/s]\n",
      "vibrobox.mat: 100%|██████████| 12328/12328 [00:04<00:00, 3047.77it/s]\n",
      "cbuckle.mat: 100%|██████████| 13681/13681 [00:07<00:00, 1801.57it/s]\n",
      "Pres_Poisson.mat: 100%|██████████| 14822/14822 [00:07<00:00, 1945.00it/s]\n",
      "raefsky4.mat: 100%|██████████| 19779/19779 [00:19<00:00, 1027.44it/s]\n",
      "vanbody.mat: 100%|██████████| 47072/47072 [01:30<00:00, 519.41it/s]\n",
      "gridgena.mat: 100%|██████████| 48962/48962 [00:32<00:00, 1486.79it/s]\n",
      "ct20stif.mat: 100%|██████████| 52329/52329 [01:51<00:00, 469.45it/s]\n",
      "cant.mat: 100%|██████████| 62451/62451 [03:12<00:00, 323.64it/s]\n",
      "bcircuit.mat: 100%|██████████| 68902/68902 [00:44<00:00, 1550.80it/s]\n",
      "apache1.mat: 100%|██████████| 80800/80800 [00:53<00:00, 1497.56it/s]\n",
      "consph.mat: 100%|██████████| 83334/83334 [05:50<00:00, 237.67it/s]\n",
      "ship_003.mat: 100%|██████████| 121728/121728 [08:23<00:00, 241.82it/s]\n",
      "cfd2.mat: 100%|██████████| 123440/123440 [06:08<00:00, 335.11it/s]\n",
      "bmw7st_1.mat: 100%|██████████| 141347/141347 [12:49<00:00, 183.67it/s]\n",
      "parabolic_fem.mat: 100%|██████████| 525825/525825 [40:08<00:00, 218.32it/s]\n",
      "tmt_sym.mat: 100%|██████████| 726713/726713 [2:28:44<00:00, 81.43it/s]  \n"
     ]
    }
   ],
   "source": [
    "for matname, mat in sorted(mats.items(), key=lambda i: i[1].shape[0]):\n",
    "    pos_2norms = {pos: norm(mat.getrow(pos)) for pos in tqdm(range(mat.shape[0]), desc=matname)}\n",
    "    with open(f\"../matrices/2norms/{matname[:-4]}_pos_2norms.json\", \"w\") as f:\n",
    "        dump(pos_2norms, f)"
   ]
  }
 ],
 "metadata": {
  "kernelspec": {
   "display_name": "main",
   "language": "python",
   "name": "python3"
  },
  "language_info": {
   "codemirror_mode": {
    "name": "ipython",
    "version": 3
   },
   "file_extension": ".py",
   "mimetype": "text/x-python",
   "name": "python",
   "nbconvert_exporter": "python",
   "pygments_lexer": "ipython3",
   "version": "3.11.0"
  }
 },
 "nbformat": 4,
 "nbformat_minor": 2
}
