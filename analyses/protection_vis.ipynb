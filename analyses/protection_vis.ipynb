{
 "cells": [
  {
   "cell_type": "code",
   "execution_count": 1,
   "metadata": {},
   "outputs": [
    {
     "data": {
      "application/vnd.jupyter.widget-view+json": {
       "model_id": "06185b294c804c8abdd840c6e11bb0ff",
       "version_major": 2,
       "version_minor": 0
      },
      "text/plain": [
       "Button(button_style='success', description='Run over all matrices', style=ButtonStyle())"
      ]
     },
     "metadata": {},
     "output_type": "display_data"
    },
    {
     "data": {
      "application/vnd.jupyter.widget-view+json": {
       "model_id": "555b2ee7d8344036baa0a9566e657cba",
       "version_major": 2,
       "version_minor": 0
      },
      "text/plain": [
       "Output()"
      ]
     },
     "metadata": {},
     "output_type": "display_data"
    }
   ],
   "source": [
    "if \"running_all\" not in globals():\n",
    "    from ipywidgets import widgets\n",
    "    matrices = [\"bcsstk18\", \"cbuckle\", \"ct20stif\", \"raefsky4\", \"vanbody\"]\n",
    "    b = widgets.Button(description=\"Run over all matrices\", button_style=\"success\")\n",
    "    output = widgets.Output()\n",
    "\n",
    "    display(b, output)\n",
    "\n",
    "    def run_over_all_matrices(button):\n",
    "        global running_all\n",
    "        global matrix\n",
    "        running_all = True\n",
    "        with output:\n",
    "            for matrix in matrices:\n",
    "                print(f\"Running {matrix}...\")\n",
    "                %run ./protection_vis.ipynb # will output at this cell rather than later\n",
    "            print(\"Finished!\")\n",
    "    b.on_click(run_over_all_matrices)"
   ]
  },
  {
   "cell_type": "code",
   "execution_count": null,
   "metadata": {},
   "outputs": [],
   "source": [
    "if \"running_all\" not in globals():\n",
    "    matrix = \"cbuckle\"  # manually set to run over one matrix"
   ]
  },
  {
   "cell_type": "code",
   "execution_count": null,
   "metadata": {},
   "outputs": [],
   "source": [
    "from scipy.sparse.linalg import norm\n",
    "import pandas as pd\n",
    "import numpy as np\n",
    "import matplotlib.pyplot as plt\n",
    "import seaborn as sns\n",
    "import sys\n",
    "import os\n",
    "sys.path.append(os.path.join(os.getcwd(), os.pardir))\n",
    "from io_utils import load_matrices_from_dir, load_models"
   ]
  },
  {
   "cell_type": "code",
   "execution_count": null,
   "metadata": {},
   "outputs": [],
   "source": [
    "mats = load_matrices_from_dir(\"../matrices/raw\", subset=[matrix])\n",
    "mat = list(mats.values())[0]\n",
    "mat"
   ]
  },
  {
   "cell_type": "code",
   "execution_count": null,
   "metadata": {},
   "outputs": [],
   "source": [
    "mat_errorfree_iters = {\n",
    "    \"bcsstk18\": 432,\n",
    "    \"cbuckle\": 341,\n",
    "    \"ct20stif\": 364,\n",
    "    \"raefsky4\": 79,\n",
    "    \"vanbody\": 491,\n",
    "}\n",
    "errorfree_iterations = mat_errorfree_iters[matrix]"
   ]
  },
  {
   "cell_type": "code",
   "execution_count": null,
   "metadata": {},
   "outputs": [],
   "source": [
    "chosen_models = {\n",
    "    \"bcsstk18\": \"KNeighborsRegressor\",\n",
    "    \"cbuckle\": \"RandomForestRegressor\",\n",
    "    \"ct20stif\": \"XGBRegressor\",\n",
    "    \"raefsky4\": \"RandomForestRegressor\",\n",
    "    \"vanbody\": \"KNeighborsRegressor\",\n",
    "}\n",
    "model_path = f\"./models/{matrix}/best_{chosen_models[matrix]}.pkl\"\n",
    "model = load_models([model_path])[0]\n",
    "model"
   ]
  },
  {
   "cell_type": "code",
   "execution_count": null,
   "metadata": {},
   "outputs": [],
   "source": [
    "pos_2norms = {pos: norm(mat.getrow(pos)) for pos in range(mat.shape[0])}\n",
    "iter_norm_pairs = np.array([[i, pos_2norms[pos], pos] for pos in range(mat.shape[0])\n",
    "                              for i in range(errorfree_iterations)])\n",
    "df = pd.DataFrame(iter_norm_pairs, columns=[\"i\", \"2norm\", \"rowid\"])\n",
    "df[\"output\"] = model.predict(df[[\"i\", \"2norm\"]].to_numpy())\n",
    "df.head()"
   ]
  },
  {
   "cell_type": "code",
   "execution_count": null,
   "metadata": {},
   "outputs": [],
   "source": [
    "max_2norm = df[\"2norm\"].max()\n",
    "spaced_2norms = np.geomspace(1e-6, max_2norm, num=1000)\n",
    "iter_norm_pairs_spaced = np.array([[i, n, p] for p, n in enumerate(spaced_2norms)\n",
    "                                       for i in range(errorfree_iterations)])\n",
    "df_spaced = pd.DataFrame(iter_norm_pairs_spaced, columns=[\"i\", \"2norm\", \"rowid\"])\n",
    "df_spaced[\"output\"] = model.predict(df_spaced[[\"i\", \"2norm\"]].to_numpy())\n",
    "df_spaced.head()"
   ]
  },
  {
   "cell_type": "code",
   "execution_count": null,
   "metadata": {},
   "outputs": [],
   "source": [
    "df_spaced_piv = df_spaced.pivot(index=[\"2norm\", \"rowid\"], columns=\"i\", values=\"output\")\n",
    "\n",
    "protections = df_spaced_piv.to_numpy()\n",
    "df_spaced_piv.head()"
   ]
  },
  {
   "cell_type": "code",
   "execution_count": null,
   "metadata": {},
   "outputs": [],
   "source": [
    "plt.gcf().set_size_inches(8, 8)\n",
    "plt.gcf().set_dpi(100)\n",
    "\n",
    "ax = sns.heatmap(df_spaced_piv, vmin=1, vmax=100)\n",
    "\n",
    "plt.title(\"Predicted Outputs by Iteration and Row 2-norm\")\n",
    "plt.xlabel(\"Iteration Number\")\n",
    "plt.ylabel(\"Corresponding Row 2-norm (log scale)\")\n",
    "plt.savefig(f\"./figures/{matrix}/iter_r2n_output.png\")\n",
    "plt.show()"
   ]
  },
  {
   "cell_type": "code",
   "execution_count": null,
   "metadata": {},
   "outputs": [],
   "source": [
    "df_piv = df.pivot(index=[\"rowid\"], columns=\"i\", values=\"output\")\n",
    "\n",
    "protections = df_piv.to_numpy()\n",
    "df_piv.head()"
   ]
  },
  {
   "cell_type": "code",
   "execution_count": null,
   "metadata": {},
   "outputs": [],
   "source": [
    "plt.gcf().set_size_inches(8, 8)\n",
    "plt.gcf().set_dpi(100)\n",
    "sns.heatmap(protections, vmin=0, vmax=100)\n",
    "plt.title(\"Protection Scheme\")\n",
    "plt.xlabel(\"Iteration Number\")\n",
    "plt.ylabel(\"Row Index\")\n",
    "plt.savefig(f\"./figures/{matrix}/iter_row_output.png\")\n",
    "plt.show()"
   ]
  }
 ],
 "metadata": {
  "kernelspec": {
   "display_name": "main",
   "language": "python",
   "name": "python3"
  },
  "language_info": {
   "codemirror_mode": {
    "name": "ipython",
    "version": 3
   },
   "file_extension": ".py",
   "mimetype": "text/x-python",
   "name": "python",
   "nbconvert_exporter": "python",
   "pygments_lexer": "ipython3",
   "version": "3.11.0"
  }
 },
 "nbformat": 4,
 "nbformat_minor": 2
}
