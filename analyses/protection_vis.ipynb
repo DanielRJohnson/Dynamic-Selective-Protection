{
 "cells": [
  {
   "cell_type": "code",
   "execution_count": 1,
   "metadata": {},
   "outputs": [
    {
     "data": {
      "application/vnd.jupyter.widget-view+json": {
       "model_id": "d132428a717e4746810c149fad0ad97b",
       "version_major": 2,
       "version_minor": 0
      },
      "text/plain": [
       "Button(button_style='success', description='Run over all matrices', style=ButtonStyle())"
      ]
     },
     "metadata": {},
     "output_type": "display_data"
    },
    {
     "data": {
      "application/vnd.jupyter.widget-view+json": {
       "model_id": "bb5b51759b9547269d4e1151dba8be11",
       "version_major": 2,
       "version_minor": 0
      },
      "text/plain": [
       "Output()"
      ]
     },
     "metadata": {},
     "output_type": "display_data"
    }
   ],
   "source": [
    "if \"running_all\" not in globals():\n",
    "    from ipywidgets import widgets\n",
    "    matrices = [\"ex10\", \"msc04515\", \"s1rmq4m1\", \"Na5\", \"bcsstk18\",\n",
    "                \"vibrobox\", \"cbuckle\", \"Pres_Poisson\", \"raefsky4\", \"vanbody\",\n",
    "                \"ct20stif\", \"cant\", \"bcircuit\", \"apache1\", \"consph\"]\n",
    "    b = widgets.Button(description=\"Run over all matrices\", button_style=\"success\")\n",
    "    output = widgets.Output()\n",
    "\n",
    "    display(b, output)\n",
    "\n",
    "    def run_over_all_matrices(button):\n",
    "        global running_all\n",
    "        global matrix\n",
    "        running_all = True\n",
    "        with output:\n",
    "            for matrix in matrices:\n",
    "                print(f\"Running {matrix}...\")\n",
    "                %run ./protection_vis.ipynb # will output at this cell rather than later\n",
    "            print(\"Finished!\")\n",
    "    b.on_click(run_over_all_matrices)"
   ]
  },
  {
   "cell_type": "code",
   "execution_count": null,
   "metadata": {},
   "outputs": [],
   "source": [
    "if \"running_all\" not in globals():\n",
    "    matrix = \"cant\"  # manually set to run over one matrix\n",
    "matrix"
   ]
  },
  {
   "cell_type": "code",
   "execution_count": null,
   "metadata": {},
   "outputs": [],
   "source": [
    "import pandas as pd\n",
    "import numpy as np\n",
    "import matplotlib.pyplot as plt\n",
    "import seaborn as sns\n",
    "import sys\n",
    "import os\n",
    "from json import load\n",
    "sys.path.append(os.path.join(os.getcwd(), os.pardir))\n",
    "from io_utils import load_matrices_from_dir, load_models\n",
    "from sklearn.metrics import r2_score"
   ]
  },
  {
   "cell_type": "code",
   "execution_count": null,
   "metadata": {},
   "outputs": [],
   "source": [
    "TESTING_DATA_SIZE = 1000\n",
    "\n",
    "df = pd.read_csv(f\"data/{matrix}_{TESTING_DATA_SIZE}.csv\")\n",
    "X_test = df[[\"error_iter\", \"pos_2norm\"]].to_numpy()\n",
    "y_test = df[[\"slowdown\"]].to_numpy()\n",
    "df.head()"
   ]
  },
  {
   "cell_type": "code",
   "execution_count": null,
   "metadata": {},
   "outputs": [],
   "source": [
    "mats = load_matrices_from_dir(\"../matrices/raw\", subset=[matrix])\n",
    "mat = list(mats.values())[0]\n",
    "mat"
   ]
  },
  {
   "cell_type": "code",
   "execution_count": null,
   "metadata": {},
   "outputs": [],
   "source": [
    "mat_errorfree_iters = {\n",
    "    \"apache1\": 131, \n",
    "    \"bcircuit\": 48, \n",
    "    \"bcsstk18\": 432, \n",
    "    \"cant\": 394,\n",
    "    \"cbuckle\": 341, \n",
    "    \"consph\": 611, \n",
    "    \"ct20stif\": 364, \n",
    "    \"ex10\": 479,\n",
    "    \"msc04515\": 1849, \n",
    "    \"Na5\": 101, \n",
    "    \"Pres_Poisson\": 72,\n",
    "    \"raefsky4\": 79, \n",
    "    \"s1rmq4m1\": 605, \n",
    "    \"vanbody\": 491, \n",
    "    \"vibrobox\": 565,\n",
    "}\n",
    "errorfree_iterations = mat_errorfree_iters[matrix]"
   ]
  },
  {
   "cell_type": "code",
   "execution_count": null,
   "metadata": {},
   "outputs": [],
   "source": [
    "chosen_models = {\n",
    "    \"apache1\": \"XGBRegressor\",\n",
    "    \"bcircuit\": \"XGBRegressor\",\n",
    "    \"bcsstk18\": \"XGBRegressor\",\n",
    "    \"cant\": \"KNeighborsRegressor\",\n",
    "    \"cbuckle\": \"KNeighborsRegressor\",\n",
    "    \"consph\": \"Ridge\",\n",
    "    \"ct20stif\": \"XGBRegressor\",\n",
    "    \"ex10\": \"RandomForestRegressor\",\n",
    "    \"msc04515\": \"RandomForestRegressor\",\n",
    "    \"Na5\": \"XGBRegressor\",\n",
    "    \"Pres_Poisson\": \"XGBRegressor\",\n",
    "    \"raefsky4\": \"RandomForestRegressor\",\n",
    "    \"s1rmq4m1\": \"RandomForestRegressor\",\n",
    "    \"vanbody\": \"RandomForestRegressor\",\n",
    "    \"vibrobox\": \"KNeighborsRegressor\",\n",
    "}\n",
    "\n",
    "model_path = f\"./models/{matrix}/best_{chosen_models[matrix]}.pkl\"\n",
    "model = load_models([model_path])[0]\n",
    "df[\"output\"] = model.predict(X_test)\n",
    "model"
   ]
  },
  {
   "cell_type": "code",
   "execution_count": null,
   "metadata": {},
   "outputs": [],
   "source": [
    "with open(f\"../matrices/2norms/{matrix}_pos_2norms.json\") as f:\n",
    "    pos_2norms = load(f)"
   ]
  },
  {
   "cell_type": "code",
   "execution_count": null,
   "metadata": {},
   "outputs": [],
   "source": [
    "# df_piv = df_full.pivot_table(index=[\"2norm\", \"rowid\"], columns=\"i\", values=\"output\")\n",
    "# df_piv.head()"
   ]
  },
  {
   "cell_type": "code",
   "execution_count": null,
   "metadata": {},
   "outputs": [],
   "source": [
    "r2 = r2_score(y_test, model.predict(X_test))\n",
    "r2"
   ]
  },
  {
   "cell_type": "code",
   "execution_count": null,
   "metadata": {},
   "outputs": [],
   "source": [
    "norms = sorted(list(df[\"pos_2norm\"].unique()))\n",
    "iters = range(errorfree_iterations)\n",
    "iter_norm_pairs_spaced = np.array([[i, n, p] for p, n in enumerate(norms)\n",
    "                                   for i in iters])\n",
    "df_spaced = pd.DataFrame(iter_norm_pairs_spaced,\n",
    "                         columns=[\"i\", \"2norm\", \"rowid\"])\n",
    "df_spaced[\"output\"] = model.predict(df_spaced[[\"i\", \"2norm\"]])\n",
    "df_spaced_piv = df_spaced.pivot(index=[\"2norm\"], columns=\"i\", values=\"output\")\n",
    "\n",
    "df_spaced_piv.head()"
   ]
  },
  {
   "cell_type": "code",
   "execution_count": null,
   "metadata": {},
   "outputs": [],
   "source": [
    "plt.gcf().set_size_inches(8, 8)\n",
    "plt.gcf().set_dpi(100)\n",
    "\n",
    "y, x = np.meshgrid(norms, iters)\n",
    "norm = plt.Normalize(1, 100)\n",
    "ax = plt.pcolormesh(x, y, df_spaced_piv.to_numpy().T,\n",
    "                    cmap=\"Spectral_r\", norm=norm, shading=\"nearest\")\n",
    "sm = plt.cm.ScalarMappable(cmap=\"Spectral_r\", norm=norm)\n",
    "sm.set_array([])\n",
    "ax.figure.colorbar(sm, ax=plt.gca(), label=\"Predicted Slowdown (x times)\")\n",
    "\n",
    "plt.ylim(min(norms), max(norms))\n",
    "plt.yscale(\"log\")\n",
    "plt.gca().invert_yaxis()\n",
    "plt.xlabel(\"Error Iteration\")\n",
    "plt.ylabel(\"Row 2-norm of A\")\n",
    "plt.title(f\"{matrix}\", weight=\"bold\")\n",
    "plt.tight_layout()\n",
    "plt.savefig(f\"./figures/{matrix}/iter_r2n_output.png\")\n",
    "plt.show()"
   ]
  },
  {
   "cell_type": "code",
   "execution_count": null,
   "metadata": {},
   "outputs": [],
   "source": [
    "fig, (ax1, ax2) = plt.subplots(nrows=2)\n",
    "fig.set_size_inches(8, 12)\n",
    "fig.set_dpi(100)\n",
    "\n",
    "scatter = sns.scatterplot(df, ax=ax1, x=\"error_iter\", y=\"pos_2norm\",\n",
    "                     hue=\"slowdown\", legend=False, palette=\"Spectral_r\")\n",
    "norm = plt.Normalize(1, 100)\n",
    "sm = plt.cm.ScalarMappable(cmap=\"Spectral_r\", norm=norm)\n",
    "sm.set_array([])\n",
    "scatter.figure.colorbar(sm, ax=scatter, label=\"Slowdown (x times)\")\n",
    "\n",
    "ax1.set_yscale(\"log\")\n",
    "ax1.set_ylim(df[\"pos_2norm\"].min(), df[\"pos_2norm\"].max())\n",
    "scatter.invert_yaxis()\n",
    "ax1.set_xlabel(\"Error Iteration\")\n",
    "ax1.set_ylabel(\"Row 2-norm of A\")\n",
    "\n",
    "y, x = np.meshgrid(norms, iters)\n",
    "norm = plt.Normalize(1, 100)\n",
    "heatmap = plt.pcolormesh(x, y, df_spaced_piv.to_numpy().T,\n",
    "                    cmap=\"Spectral_r\", norm=norm, shading=\"nearest\")\n",
    "sm = plt.cm.ScalarMappable(cmap=\"Spectral_r\", norm=norm)\n",
    "sm.set_array([])\n",
    "heatmap.figure.colorbar(sm, ax=ax2, label=\"Predicted Slowdown (x times)\")\n",
    "\n",
    "ax2.set_ylim(min(norms), max(norms))\n",
    "ax2.set_yscale(\"log\")\n",
    "ax2.invert_yaxis()\n",
    "ax2.set_xlabel(\"Error Iteration\")\n",
    "ax2.set_ylabel(\"Row 2-norm of A\")\n",
    "\n",
    "ax1.set_title(f\"{matrix}\\n$r^2 = {round(r2, 3)}$\", weight=\"bold\")\n",
    "plt.tight_layout()\n",
    "plt.savefig(f\"./figures/{matrix}/fit_combined.png\")\n",
    "plt.show()"
   ]
  },
  {
   "cell_type": "code",
   "execution_count": null,
   "metadata": {},
   "outputs": [],
   "source": [
    "df_full = pd.DataFrame([[i, pos_2norms[str(pos)], pos] for pos in range(mat.shape[0])\n",
    "                   for i in range(errorfree_iterations)], columns=[\"i\", \"2norm\", \"rowid\"])\n",
    "df_full[\"output\"] = model.predict(df_full[[\"i\", \"2norm\"]])\n",
    "\n",
    "\n",
    "df_piv_rowid = df_full.pivot(index=[\"rowid\"], columns=\"i\", values=\"output\")\n",
    "df_piv_rowid.head()"
   ]
  },
  {
   "cell_type": "code",
   "execution_count": null,
   "metadata": {},
   "outputs": [],
   "source": [
    "plt.gcf().set_size_inches(8, 8)\n",
    "plt.gcf().set_dpi(100)\n",
    "\n",
    "xskip = 20 if errorfree_iterations < 200 else 100\n",
    "yskip = 1000 if mat.shape[0] < 10000 else 2000 if mat.shape[0] < 20000 else 10000\n",
    "ax = sns.heatmap(df_piv_rowid, vmin=1, vmax=df_full[\"output\"].max(), cmap=\"flare_r\", xticklabels=xskip,\n",
    "            yticklabels=yskip, cbar_kws={\"label\": \"Predicted Slowdown (x times)\"})\n",
    "\n",
    "plt.xlabel(\"Iteration\")\n",
    "plt.ylabel(\"Row Index\")\n",
    "plt.title(f\"{matrix}\", weight=\"bold\")\n",
    "plt.tight_layout()\n",
    "plt.savefig(f\"./figures/{matrix}/protection_scheme.png\")\n",
    "plt.show()"
   ]
  }
 ],
 "metadata": {
  "kernelspec": {
   "display_name": "main",
   "language": "python",
   "name": "python3"
  },
  "language_info": {
   "codemirror_mode": {
    "name": "ipython",
    "version": 3
   },
   "file_extension": ".py",
   "mimetype": "text/x-python",
   "name": "python",
   "nbconvert_exporter": "python",
   "pygments_lexer": "ipython3",
   "version": "3.11.0"
  }
 },
 "nbformat": 4,
 "nbformat_minor": 2
}
