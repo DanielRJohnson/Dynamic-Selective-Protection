{
 "cells": [
  {
   "cell_type": "code",
   "execution_count": 1,
   "metadata": {},
   "outputs": [
    {
     "data": {
      "application/vnd.jupyter.widget-view+json": {
       "model_id": "06d2cf46f27c4e1cb61d148b8f2aee51",
       "version_major": 2,
       "version_minor": 0
      },
      "text/plain": [
       "Button(button_style='success', description='Run over all matrices', style=ButtonStyle())"
      ]
     },
     "metadata": {},
     "output_type": "display_data"
    },
    {
     "data": {
      "application/vnd.jupyter.widget-view+json": {
       "model_id": "f7056726ca214f109d6356f4e904d9b8",
       "version_major": 2,
       "version_minor": 0
      },
      "text/plain": [
       "Output()"
      ]
     },
     "metadata": {},
     "output_type": "display_data"
    }
   ],
   "source": [
    "if \"running_all\" not in globals():\n",
    "    from ipywidgets import widgets\n",
    "    matrices = [\"ex10\", \"msc04515\", \"s1rmq4m1\", \"Na5\", \"bcsstk18\",\n",
    "                \"vibrobox\", \"cbuckle\", \"Pres_Poisson\", \"raefsky4\", \"vanbody\",\n",
    "                \"ct20stif\", \"cant\", \"bcircuit\", \"apache1\",\n",
    "                \"consph\"] # , \"parabolic_fem\", \"bmw7st_1\", \"tmt_sym\", \"gridgena\", \"cfd2\"]\n",
    "    b = widgets.Button(description=\"Run over all matrices\", button_style=\"success\")\n",
    "    output = widgets.Output()\n",
    "\n",
    "    display(b, output)\n",
    "\n",
    "    def run_over_all_matrices(button):\n",
    "        global running_all\n",
    "        global matrix\n",
    "        running_all = True\n",
    "        with output:\n",
    "            for matrix in matrices:\n",
    "                print(f\"Running {matrix}...\")\n",
    "                %run ./protection_vis.ipynb # will output at this cell rather than later\n",
    "            print(\"Finished!\")\n",
    "    b.on_click(run_over_all_matrices)"
   ]
  },
  {
   "cell_type": "code",
   "execution_count": null,
   "metadata": {},
   "outputs": [],
   "source": [
    "if \"running_all\" not in globals():\n",
    "    matrix = \"gridgena\"  # manually set to run over one matrix\n",
    "matrix"
   ]
  },
  {
   "cell_type": "code",
   "execution_count": null,
   "metadata": {},
   "outputs": [],
   "source": [
    "import pandas as pd\n",
    "import numpy as np\n",
    "import matplotlib.pyplot as plt\n",
    "import seaborn as sns\n",
    "import sys\n",
    "import os\n",
    "from json import load\n",
    "sys.path.append(os.path.join(os.getcwd(), os.pardir))\n",
    "from io_utils import load_matrices_from_dir, load_models"
   ]
  },
  {
   "cell_type": "code",
   "execution_count": null,
   "metadata": {},
   "outputs": [],
   "source": [
    "mats = load_matrices_from_dir(\"../matrices/raw\", subset=[matrix])\n",
    "mat = list(mats.values())[0]\n",
    "mat"
   ]
  },
  {
   "cell_type": "code",
   "execution_count": null,
   "metadata": {},
   "outputs": [],
   "source": [
    "mat_errorfree_iters = {\n",
    "    \"apache1\": 131, \n",
    "    \"bcircuit\": 48, \n",
    "    \"bcsstk18\": 432, \n",
    "    \"bmw7st_1\": 597, \n",
    "    \"cant\": 394,\n",
    "    \"cbuckle\": 341, \n",
    "    \"cfd2\": 840, \n",
    "    \"consph\": 611, \n",
    "    \"ct20stif\": 364, \n",
    "    \"ex10\": 479,\n",
    "    \"gridgena\": 1434, \n",
    "    \"msc04515\": 1849, \n",
    "    \"Na5\": 101, \n",
    "    \"parabolic_fem\": 126, \n",
    "    \"Pres_Poisson\": 72,\n",
    "    \"raefsky4\": 79, \n",
    "    \"s1rmq4m1\": 605, \n",
    "    \"tmt_sym\": 237, \n",
    "    \"vanbody\": 491, \n",
    "    \"vibrobox\": 565,\n",
    "}\n",
    "errorfree_iterations = mat_errorfree_iters[matrix]"
   ]
  },
  {
   "cell_type": "code",
   "execution_count": null,
   "metadata": {},
   "outputs": [],
   "source": [
    "chosen_models = {\n",
    "    \"apache1\": \"XGBRegressor\",\n",
    "    \"bcircuit\": \"XGBRegressor\",\n",
    "    \"bcsstk18\": \"XGBRegressor\",\n",
    "    \"bmw7st_1\": \"XGBRegressor\",\n",
    "    \"cant\": \"RandomForestRegressor\",\n",
    "    \"cbuckle\": \"RandomForestRegressor\",\n",
    "    \"cfd2\": \"Ridge\",\n",
    "    \"consph\": \"Ridge\",\n",
    "    \"ct20stif\": \"XGBRegressor\",\n",
    "    \"ex10\": \"RandomForestRegressor\",\n",
    "    \"gridgena\": \"Ridge\",\n",
    "    \"msc04515\": \"RandomForestRegressor\",\n",
    "    \"Na5\": \"XGBRegressor\",\n",
    "    \"parabolic_fem\": \"Ridge\",\n",
    "    \"Pres_Poisson\": \"XGBRegressor\",\n",
    "    \"raefsky4\": \"RandomForestRegressor\",\n",
    "    \"s1rmq4m1\": \"RandomForestRegressor\",\n",
    "    \"tmt_sym\": \"RandomForestRegressor\",\n",
    "    \"vanbody\": \"KNeighborsRegressor\",\n",
    "    \"vibrobox\": \"KNeighborsRegressor\",\n",
    "}\n",
    "model_path = f\"./models/{matrix}/best_{chosen_models[matrix]}.pkl\"\n",
    "model = load_models([model_path])[0]\n",
    "model"
   ]
  },
  {
   "cell_type": "code",
   "execution_count": null,
   "metadata": {},
   "outputs": [],
   "source": [
    "with open(f\"../matrices/2norms/{matrix}_pos_2norms.json\") as f:\n",
    "    pos_2norms = load(f)"
   ]
  },
  {
   "cell_type": "code",
   "execution_count": null,
   "metadata": {},
   "outputs": [],
   "source": [
    "df = pd.DataFrame([[i, pos_2norms[str(pos)], pos] for pos in range(mat.shape[0])\n",
    "                   for i in range(errorfree_iterations)], columns=[\"i\", \"2norm\", \"rowid\"])\n",
    "len(df)"
   ]
  },
  {
   "cell_type": "code",
   "execution_count": null,
   "metadata": {},
   "outputs": [],
   "source": [
    "df[\"output\"] = model.predict(df[[\"i\", \"2norm\"]])\n",
    "df.head()"
   ]
  },
  {
   "cell_type": "code",
   "execution_count": null,
   "metadata": {},
   "outputs": [],
   "source": [
    "max_2norm = df[\"2norm\"].max()\n",
    "spaced_2norms = np.geomspace(1e-6, max_2norm, num=1000)\n",
    "iter_norm_pairs_spaced = np.array([[i, n, p] for p, n in enumerate(spaced_2norms)\n",
    "                                       for i in range(errorfree_iterations)])\n",
    "df_spaced = pd.DataFrame(iter_norm_pairs_spaced, columns=[\"i\", \"2norm\", \"rowid\"])\n",
    "df_spaced[\"output\"] = model.predict(df_spaced[[\"i\", \"2norm\"]])\n",
    "df_spaced.head()"
   ]
  },
  {
   "cell_type": "code",
   "execution_count": null,
   "metadata": {},
   "outputs": [],
   "source": [
    "df_spaced_piv = df_spaced.pivot(index=[\"2norm\", \"rowid\"], columns=\"i\", values=\"output\")\n",
    "\n",
    "protections = df_spaced_piv.to_numpy()\n",
    "df_spaced_piv.head()"
   ]
  },
  {
   "cell_type": "code",
   "execution_count": null,
   "metadata": {},
   "outputs": [],
   "source": [
    "plt.gcf().set_size_inches(8, 8)\n",
    "plt.gcf().set_dpi(100)\n",
    "\n",
    "ax = sns.heatmap(df_spaced_piv, vmin=1, vmax=df_spaced_piv.max().max())\n",
    "\n",
    "plt.title(\"Predicted Outputs by Iteration and Row 2-norm\")\n",
    "plt.xlabel(\"Iteration Number\")\n",
    "plt.ylabel(\"Corresponding Row 2-norm (log scale)\")\n",
    "plt.savefig(f\"./figures/{matrix}/iter_r2n_output.png\")\n",
    "plt.show()"
   ]
  },
  {
   "cell_type": "code",
   "execution_count": null,
   "metadata": {},
   "outputs": [],
   "source": [
    "df_piv = df.pivot(index=[\"rowid\"], columns=\"i\", values=\"output\")\n",
    "df_piv.head()"
   ]
  },
  {
   "cell_type": "code",
   "execution_count": null,
   "metadata": {},
   "outputs": [],
   "source": [
    "plt.gcf().set_size_inches(8, 8)\n",
    "plt.gcf().set_dpi(100)\n",
    "sns.heatmap(df_piv, vmin=0, vmax=df_piv.max().max())\n",
    "plt.title(\"Protection Scheme\")\n",
    "plt.xlabel(\"Iteration Number\")\n",
    "plt.ylabel(\"Row Index\")\n",
    "plt.savefig(f\"./figures/{matrix}/iter_row_output.png\")\n",
    "plt.show()"
   ]
  }
 ],
 "metadata": {
  "kernelspec": {
   "display_name": "main",
   "language": "python",
   "name": "python3"
  },
  "language_info": {
   "codemirror_mode": {
    "name": "ipython",
    "version": 3
   },
   "file_extension": ".py",
   "mimetype": "text/x-python",
   "name": "python",
   "nbconvert_exporter": "python",
   "pygments_lexer": "ipython3",
   "version": "3.11.0"
  }
 },
 "nbformat": 4,
 "nbformat_minor": 2
}
