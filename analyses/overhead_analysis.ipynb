{
 "cells": [
  {
   "cell_type": "code",
   "execution_count": 13,
   "metadata": {},
   "outputs": [],
   "source": [
    "import pandas as pd"
   ]
  },
  {
   "cell_type": "code",
   "execution_count": 14,
   "metadata": {},
   "outputs": [
    {
     "data": {
      "text/html": [
       "<div>\n",
       "<style scoped>\n",
       "    .dataframe tbody tr th:only-of-type {\n",
       "        vertical-align: middle;\n",
       "    }\n",
       "\n",
       "    .dataframe tbody tr th {\n",
       "        vertical-align: top;\n",
       "    }\n",
       "\n",
       "    .dataframe thead th {\n",
       "        text-align: right;\n",
       "    }\n",
       "</style>\n",
       "<table border=\"1\" class=\"dataframe\">\n",
       "  <thead>\n",
       "    <tr style=\"text-align: right;\">\n",
       "      <th></th>\n",
       "      <th>mat_name</th>\n",
       "      <th>errorfree_iterations</th>\n",
       "      <th>tol</th>\n",
       "      <th>maxiter</th>\n",
       "      <th>error_pos</th>\n",
       "      <th>error_iter</th>\n",
       "      <th>solve_iterations</th>\n",
       "      <th>final_relres</th>\n",
       "      <th>did_converge</th>\n",
       "      <th>realtime_s</th>\n",
       "      <th>pos_2norm</th>\n",
       "      <th>n_protections</th>\n",
       "      <th>n_rows</th>\n",
       "      <th>slowdown</th>\n",
       "    </tr>\n",
       "  </thead>\n",
       "  <tbody>\n",
       "    <tr>\n",
       "      <th>0</th>\n",
       "      <td>cbuckle.mat</td>\n",
       "      <td>341</td>\n",
       "      <td>0.000001</td>\n",
       "      <td>34100</td>\n",
       "      <td>1135</td>\n",
       "      <td>83</td>\n",
       "      <td>352</td>\n",
       "      <td>9.973114e-07</td>\n",
       "      <td>True</td>\n",
       "      <td>0.234578</td>\n",
       "      <td>485.237722</td>\n",
       "      <td>0</td>\n",
       "      <td>13681</td>\n",
       "      <td>1.032258</td>\n",
       "    </tr>\n",
       "    <tr>\n",
       "      <th>1</th>\n",
       "      <td>cbuckle.mat</td>\n",
       "      <td>341</td>\n",
       "      <td>0.000001</td>\n",
       "      <td>34100</td>\n",
       "      <td>1135</td>\n",
       "      <td>83</td>\n",
       "      <td>352</td>\n",
       "      <td>9.973114e-07</td>\n",
       "      <td>True</td>\n",
       "      <td>0.232478</td>\n",
       "      <td>485.237722</td>\n",
       "      <td>2348194</td>\n",
       "      <td>13681</td>\n",
       "      <td>1.032258</td>\n",
       "    </tr>\n",
       "    <tr>\n",
       "      <th>2</th>\n",
       "      <td>cbuckle.mat</td>\n",
       "      <td>341</td>\n",
       "      <td>0.000001</td>\n",
       "      <td>34100</td>\n",
       "      <td>11385</td>\n",
       "      <td>42</td>\n",
       "      <td>343</td>\n",
       "      <td>9.614078e-07</td>\n",
       "      <td>True</td>\n",
       "      <td>0.229620</td>\n",
       "      <td>47.132326</td>\n",
       "      <td>0</td>\n",
       "      <td>13681</td>\n",
       "      <td>1.005865</td>\n",
       "    </tr>\n",
       "    <tr>\n",
       "      <th>3</th>\n",
       "      <td>cbuckle.mat</td>\n",
       "      <td>341</td>\n",
       "      <td>0.000001</td>\n",
       "      <td>34100</td>\n",
       "      <td>11385</td>\n",
       "      <td>42</td>\n",
       "      <td>343</td>\n",
       "      <td>9.614078e-07</td>\n",
       "      <td>True</td>\n",
       "      <td>0.243494</td>\n",
       "      <td>47.132326</td>\n",
       "      <td>2348194</td>\n",
       "      <td>13681</td>\n",
       "      <td>1.005865</td>\n",
       "    </tr>\n",
       "    <tr>\n",
       "      <th>4</th>\n",
       "      <td>cbuckle.mat</td>\n",
       "      <td>341</td>\n",
       "      <td>0.000001</td>\n",
       "      <td>34100</td>\n",
       "      <td>1345</td>\n",
       "      <td>44</td>\n",
       "      <td>351</td>\n",
       "      <td>9.596970e-07</td>\n",
       "      <td>True</td>\n",
       "      <td>0.235188</td>\n",
       "      <td>528.571697</td>\n",
       "      <td>0</td>\n",
       "      <td>13681</td>\n",
       "      <td>1.029326</td>\n",
       "    </tr>\n",
       "  </tbody>\n",
       "</table>\n",
       "</div>"
      ],
      "text/plain": [
       "      mat_name  errorfree_iterations       tol  maxiter  error_pos  \\\n",
       "0  cbuckle.mat                   341  0.000001    34100       1135   \n",
       "1  cbuckle.mat                   341  0.000001    34100       1135   \n",
       "2  cbuckle.mat                   341  0.000001    34100      11385   \n",
       "3  cbuckle.mat                   341  0.000001    34100      11385   \n",
       "4  cbuckle.mat                   341  0.000001    34100       1345   \n",
       "\n",
       "   error_iter  solve_iterations  final_relres  did_converge  realtime_s  \\\n",
       "0          83               352  9.973114e-07          True    0.234578   \n",
       "1          83               352  9.973114e-07          True    0.232478   \n",
       "2          42               343  9.614078e-07          True    0.229620   \n",
       "3          42               343  9.614078e-07          True    0.243494   \n",
       "4          44               351  9.596970e-07          True    0.235188   \n",
       "\n",
       "    pos_2norm  n_protections  n_rows  slowdown  \n",
       "0  485.237722              0   13681  1.032258  \n",
       "1  485.237722        2348194   13681  1.032258  \n",
       "2   47.132326              0   13681  1.005865  \n",
       "3   47.132326        2348194   13681  1.005865  \n",
       "4  528.571697              0   13681  1.029326  "
      ]
     },
     "execution_count": 14,
     "metadata": {},
     "output_type": "execute_result"
    }
   ],
   "source": [
    "matrix = \"cbuckle\"\n",
    "df = pd.read_csv(f\"data/{matrix}_overhead_analysis.csv\")\n",
    "df.head()"
   ]
  },
  {
   "cell_type": "code",
   "execution_count": 15,
   "metadata": {},
   "outputs": [
    {
     "name": "stdout",
     "output_type": "stream",
     "text": [
      "count    1000.000000\n",
      "mean       10.826504\n",
      "std        21.228636\n",
      "min         0.912023\n",
      "25%         1.043988\n",
      "50%         1.306452\n",
      "75%         7.306452\n",
      "max        99.997067\n",
      "Name: slowdown, dtype: float64\n"
     ]
    },
    {
     "data": {
      "image/png": "[encoded data removed]",
      "text/plain": [
       "<Figure size 640x480 with 1 Axes>"
      ]
     },
     "metadata": {},
     "output_type": "display_data"
    }
   ],
   "source": [
    "df_nonprot = df[df[\"n_protections\"] == 0]\n",
    "print(df_nonprot[\"slowdown\"].describe())\n",
    "df_nonprot[\"slowdown\"].hist(bins=25);"
   ]
  },
  {
   "cell_type": "code",
   "execution_count": 16,
   "metadata": {},
   "outputs": [
    {
     "name": "stdout",
     "output_type": "stream",
     "text": [
      "count    1000.000000\n",
      "mean        5.388672\n",
      "std        15.144520\n",
      "min         0.926686\n",
      "25%         1.000000\n",
      "50%         1.000000\n",
      "75%         1.296921\n",
      "max        99.997067\n",
      "Name: slowdown, dtype: float64\n"
     ]
    },
    {
     "data": {
      "image/png": "[encoded data removed]",
      "text/plain": [
       "<Figure size 640x480 with 1 Axes>"
      ]
     },
     "metadata": {},
     "output_type": "display_data"
    }
   ],
   "source": [
    "df_prot = df[df[\"n_protections\"] != 0]\n",
    "print(df_prot[\"slowdown\"].describe())\n",
    "df_prot[\"slowdown\"].hist(bins=25);"
   ]
  },
  {
   "cell_type": "code",
   "execution_count": 17,
   "metadata": {},
   "outputs": [
    {
     "name": "stdout",
     "output_type": "stream",
     "text": [
      "count    1000.000000\n",
      "mean        9.826504\n",
      "std        21.228636\n",
      "min        -0.087977\n",
      "25%         0.043988\n",
      "50%         0.306452\n",
      "75%         6.306452\n",
      "max        98.997067\n",
      "dtype: float64\n"
     ]
    },
    {
     "data": {
      "image/png": "[encoded data removed]",
      "text/plain": [
       "<Figure size 640x480 with 1 Axes>"
      ]
     },
     "metadata": {},
     "output_type": "display_data"
    }
   ],
   "source": [
    "ohc = df_nonprot[\"solve_iterations\"] * df_nonprot[\"n_rows\"] + + df_nonprot[\"n_protections\"]\n",
    "efc = df_nonprot[\"errorfree_iterations\"] * df_nonprot[\"n_rows\"]\n",
    "\n",
    "nonprot_overhead = (ohc - efc) / efc\n",
    "print(nonprot_overhead.describe())\n",
    "nonprot_overhead.hist(bins=25);"
   ]
  },
  {
   "cell_type": "code",
   "execution_count": 18,
   "metadata": {},
   "outputs": [
    {
     "name": "stdout",
     "output_type": "stream",
     "text": [
      "count    1000.000000\n",
      "mean        4.892012\n",
      "std        15.144520\n",
      "min         0.430027\n",
      "25%         0.503340\n",
      "50%         0.503340\n",
      "75%         0.800261\n",
      "max        99.500408\n",
      "dtype: float64\n"
     ]
    },
    {
     "data": {
      "image/png": "[encoded data removed]",
      "text/plain": [
       "<Figure size 640x480 with 1 Axes>"
      ]
     },
     "metadata": {},
     "output_type": "display_data"
    }
   ],
   "source": [
    "ohc = df_prot[\"solve_iterations\"] * df_prot[\"n_rows\"] + + df_prot[\"n_protections\"]\n",
    "efc = df_prot[\"errorfree_iterations\"] * df_prot[\"n_rows\"]\n",
    "\n",
    "prot_overhead = (ohc - efc) / efc\n",
    "print(prot_overhead.describe())\n",
    "prot_overhead.hist(bins=25);"
   ]
  },
  {
   "cell_type": "code",
   "execution_count": null,
   "metadata": {},
   "outputs": [],
   "source": []
  }
 ],
 "metadata": {
  "kernelspec": {
   "display_name": "main",
   "language": "python",
   "name": "python3"
  },
  "language_info": {
   "codemirror_mode": {
    "name": "ipython",
    "version": 3
   },
   "file_extension": ".py",
   "mimetype": "text/x-python",
   "name": "python",
   "nbconvert_exporter": "python",
   "pygments_lexer": "ipython3",
   "version": "3.11.0"
  }
 },
 "nbformat": 4,
 "nbformat_minor": 2
}
