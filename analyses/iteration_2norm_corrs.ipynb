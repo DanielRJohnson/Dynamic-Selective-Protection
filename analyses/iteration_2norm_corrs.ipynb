{
 "cells": [
  {
   "cell_type": "code",
   "execution_count": null,
   "metadata": {},
   "outputs": [],
   "source": [
    "if \"running_all\" not in globals():\n",
    "    from ipywidgets import widgets\n",
    "    matrices = [\"ex10\", \"msc04515\", \"s1rmq4m1\", \"Na5\", \"bcsstk18\",\n",
    "                \"vibrobox\", \"cbuckle\", \"Pres_Poisson\", \"raefsky4\", \"vanbody\",\n",
    "                \"ct20stif\", \"cant\", \"bcircuit\", \"apache1\", \"consph\"]\n",
    "    b = widgets.Button(description=\"Run over all matrices\", button_style=\"success\")\n",
    "    output = widgets.Output()\n",
    "\n",
    "    display(b, output)\n",
    "\n",
    "    def run_over_all_matrices(button):\n",
    "        global running_all\n",
    "        global matrix\n",
    "        running_all = True\n",
    "        with output:\n",
    "            for matrix in matrices:\n",
    "                print(f\"Running {matrix}...\")\n",
    "                %run ./iteration_2norm_corrs.ipynb # will output at this cell rather than later\n",
    "            print(\"Finished!\")\n",
    "    b.on_click(run_over_all_matrices)"
   ]
  },
  {
   "cell_type": "code",
   "execution_count": null,
   "metadata": {},
   "outputs": [],
   "source": [
    "if \"running_all\" not in globals():\n",
    "    matrix = \"bcsstk18\"  # manually set to run over one matrix\n",
    "matrix"
   ]
  },
  {
   "cell_type": "code",
   "execution_count": null,
   "metadata": {},
   "outputs": [],
   "source": [
    "import os\n",
    "import pandas as pd\n",
    "import matplotlib.pyplot as plt\n",
    "import seaborn as sns"
   ]
  },
  {
   "cell_type": "code",
   "execution_count": null,
   "metadata": {},
   "outputs": [],
   "source": [
    "def get_test_data_size(name):\n",
    "    if name in [\"vanbody\", \"cant\"]:\n",
    "        return 100\n",
    "    return 1000\n",
    "\n",
    "\n",
    "df = pd.read_csv(f\"data/{matrix}_{get_test_data_size(matrix)}.csv\")\n",
    "df.head()"
   ]
  },
  {
   "cell_type": "code",
   "execution_count": null,
   "metadata": {},
   "outputs": [],
   "source": [
    "plt.gcf().set_size_inches(12, 8)\n",
    "plt.gcf().set_dpi(100)\n",
    "\n",
    "ax = sns.scatterplot(df, x=\"pos_2norm\", y=\"slowdown\", hue=\"error_iter\", palette=\"Spectral_r\", legend=False)\n",
    "norm = plt.Normalize(df['error_iter'].min(), df['error_iter'].max())\n",
    "sm = plt.cm.ScalarMappable(cmap=\"Spectral_r\", norm=norm)\n",
    "sm.set_array([])\n",
    "ax.figure.colorbar(sm, ax=plt.gca(), label=\"Iteration #\")\n",
    "\n",
    "plt.xscale(\"log\")\n",
    "plt.yscale(\"log\")\n",
    "plt.xlabel(\"Row 2-norm of A\")\n",
    "plt.ylabel(\"Slowdown (x times)\")\n",
    "plt.title(f\"{matrix}\", weight=\"bold\")\n",
    "os.makedirs(f\"./figures/{matrix}\", exist_ok=True)\n",
    "plt.tight_layout()\n",
    "plt.savefig(f\"./figures/{matrix}/2norm_slowdown_correlation_by_iter.png\")\n",
    "plt.show()"
   ]
  },
  {
   "cell_type": "code",
   "execution_count": null,
   "metadata": {},
   "outputs": [],
   "source": [
    "plt.gcf().set_size_inches(8, 8)\n",
    "plt.gcf().set_dpi(100)\n",
    "\n",
    "ax = sns.scatterplot(df, x=\"error_iter\", y=\"pos_2norm\", hue=\"slowdown\", legend=False, palette=\"Spectral_r\")\n",
    "norm = plt.Normalize(1, 100)\n",
    "sm = plt.cm.ScalarMappable(cmap=\"Spectral_r\", norm=norm)\n",
    "sm.set_array([])\n",
    "ax.figure.colorbar(sm, ax=plt.gca(), label=\"Slowdown (x times)\")\n",
    "\n",
    "plt.yscale(\"log\")\n",
    "plt.ylim(df[\"pos_2norm\"].min(), df[\"pos_2norm\"].max())\n",
    "ax.invert_yaxis()\n",
    "plt.xlabel(\"Error Iteration\")\n",
    "plt.ylabel(\"Row 2-norm of A\")\n",
    "plt.title(f\"{matrix}\", weight=\"bold\")\n",
    "plt.tight_layout()\n",
    "plt.savefig(f\"./figures/{matrix}/slowdown_by_iter_and_2norm.png\")\n",
    "plt.show()"
   ]
  }
 ],
 "metadata": {
  "kernelspec": {
   "display_name": "main",
   "language": "python",
   "name": "python3"
  },
  "language_info": {
   "codemirror_mode": {
    "name": "ipython",
    "version": 3
   },
   "file_extension": ".py",
   "mimetype": "text/x-python",
   "name": "python",
   "nbconvert_exporter": "python",
   "pygments_lexer": "ipython3",
   "version": "3.11.0"
  }
 },
 "nbformat": 4,
 "nbformat_minor": 2
}
