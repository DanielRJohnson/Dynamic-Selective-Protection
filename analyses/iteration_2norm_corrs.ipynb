{
 "cells": [
  {
   "cell_type": "code",
   "execution_count": 1,
   "metadata": {},
   "outputs": [
    {
     "data": {
      "application/vnd.jupyter.widget-view+json": {
       "model_id": "cbf43ec44d5b4a5286ea7f8f25b39c2b",
       "version_major": 2,
       "version_minor": 0
      },
      "text/plain": [
       "Button(button_style='success', description='Run over all matrices', style=ButtonStyle())"
      ]
     },
     "metadata": {},
     "output_type": "display_data"
    },
    {
     "data": {
      "application/vnd.jupyter.widget-view+json": {
       "model_id": "74b85896d4a348dfbde79db59262db51",
       "version_major": 2,
       "version_minor": 0
      },
      "text/plain": [
       "Output()"
      ]
     },
     "metadata": {},
     "output_type": "display_data"
    }
   ],
   "source": [
    "if \"running_all\" not in globals():\n",
    "    from ipywidgets import widgets\n",
    "    matrices = [\"ex10\", \"msc04515\", \"s1rmq4m1\", \"Na5\", \"bcsstk18\",\n",
    "                \"vibrobox\", \"cbuckle\", \"Pres_Poisson\", \"raefsky4\", \"vanbody\",\n",
    "                \"gridgena\", \"ct20stif\", \"cant\", \"bcircuit\", \"apache1\",\n",
    "                \"consph\", \"cfd2\", \"bmw7st_1\", \"parabolic_fem\", \"tmt_sym\"]\n",
    "    b = widgets.Button(description=\"Run over all matrices\", button_style=\"success\")\n",
    "    output = widgets.Output()\n",
    "\n",
    "    display(b, output)\n",
    "\n",
    "    def run_over_all_matrices(button):\n",
    "        global running_all\n",
    "        global matrix\n",
    "        running_all = True\n",
    "        with output:\n",
    "            for matrix in matrices:\n",
    "                print(f\"Running {matrix}...\")\n",
    "                %run ./iteration_2norm_corrs.ipynb # will output at this cell rather than later\n",
    "            print(\"Finished!\")\n",
    "    b.on_click(run_over_all_matrices)"
   ]
  },
  {
   "cell_type": "code",
   "execution_count": null,
   "metadata": {},
   "outputs": [],
   "source": [
    "if \"running_all\" not in globals():\n",
    "    matrix = \"bcircuit\"  # manually set to run over one matrix\n",
    "matrix"
   ]
  },
  {
   "cell_type": "code",
   "execution_count": null,
   "metadata": {},
   "outputs": [],
   "source": [
    "import os\n",
    "import pandas as pd\n",
    "import matplotlib.pyplot as plt\n",
    "import seaborn as sns"
   ]
  },
  {
   "cell_type": "code",
   "execution_count": null,
   "metadata": {},
   "outputs": [],
   "source": [
    "def get_test_data_size(name):\n",
    "    if name in [\"vanbody\", \"bmw7st_1\", \"cant\"]:\n",
    "        return 100\n",
    "    return 1000\n",
    "\n",
    "\n",
    "df = pd.read_csv(f\"data/{matrix}_{get_test_data_size(matrix)}.csv\")\n",
    "df.head()"
   ]
  },
  {
   "cell_type": "code",
   "execution_count": null,
   "metadata": {},
   "outputs": [],
   "source": [
    "plt.gcf().set_size_inches(12, 8)\n",
    "plt.gcf().set_dpi(100)\n",
    "\n",
    "ax = sns.scatterplot(df, x=\"pos_2norm\", y=\"slowdown\", hue=\"error_iter\", palette=\"flare\", legend=False)\n",
    "norm = plt.Normalize(df['error_iter'].min(), df['error_iter'].max())\n",
    "sm = plt.cm.ScalarMappable(cmap=\"flare\", norm=norm)\n",
    "sm.set_array([])\n",
    "ax.figure.colorbar(sm, ax=plt.gca())\n",
    "\n",
    "plt.xscale(\"log\")\n",
    "plt.yscale(\"log\")\n",
    "plt.xlabel(\"Corresponding Row 2-norm\")\n",
    "plt.ylabel(\"Slowdown\")\n",
    "plt.title(\"Error Iterations by Row 2-norm and Slowdown\")\n",
    "os.makedirs(f\"./figures/{matrix}\", exist_ok=True)\n",
    "plt.savefig(f\"./figures/{matrix}/iter_by_r2n_slowdown.png\")\n",
    "plt.show()"
   ]
  },
  {
   "cell_type": "code",
   "execution_count": null,
   "metadata": {},
   "outputs": [],
   "source": [
    "plt.gcf().set_size_inches(8, 8)\n",
    "plt.gcf().set_dpi(100)\n",
    "\n",
    "ax = sns.scatterplot(df, x=\"error_iter\", y=\"pos_2norm\", \n",
    "                     size=\"slowdown\", hue=\"slowdown\", legend=False, palette=\"flare\")\n",
    "norm = plt.Normalize(df['slowdown'].min(), df['slowdown'].max())\n",
    "sm = plt.cm.ScalarMappable(cmap=\"flare\", norm=norm)\n",
    "sm.set_array([])\n",
    "ax.figure.colorbar(sm, ax=plt.gca())\n",
    "\n",
    "plt.yscale(\"log\")\n",
    "plt.ylim(df[\"pos_2norm\"].min(), df[\"pos_2norm\"].max())\n",
    "ax.invert_yaxis()\n",
    "plt.xlabel(\"Error Iteration\")\n",
    "plt.ylabel(\"Corresponding Row 2-norm\")\n",
    "plt.title(\"Slowdowns Encountered by Error Iteration and Row 2-norm\")\n",
    "plt.savefig(f\"./figures/{matrix}/slowdown_by_iter_r2n.png\")\n",
    "plt.show()"
   ]
  }
 ],
 "metadata": {
  "kernelspec": {
   "display_name": "main",
   "language": "python",
   "name": "python3"
  },
  "language_info": {
   "codemirror_mode": {
    "name": "ipython",
    "version": 3
   },
   "file_extension": ".py",
   "mimetype": "text/x-python",
   "name": "python",
   "nbconvert_exporter": "python",
   "pygments_lexer": "ipython3",
   "version": "3.11.0"
  }
 },
 "nbformat": 4,
 "nbformat_minor": 2
}
